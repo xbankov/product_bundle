{
 "cells": [
  {
   "cell_type": "code",
   "execution_count": 1,
   "metadata": {},
   "outputs": [
    {
     "name": "stderr",
     "output_type": "stream",
     "text": [
      "2023-10-04 15:29:59,603 - root - INFO - Encoding textual information\n",
      "100%|██████████| 3891/3891 [01:28<00:00, 44.15it/s]\n"
     ]
    }
   ],
   "source": [
    "import torch\n",
    "import torch.nn as nn\n",
    "import logging\n",
    "import pandas as pd\n",
    "from pathlib import Path\n",
    "from fastai.tabular.core import add_datepart\n",
    "from torch.utils.data import DataLoader, TensorDataset\n",
    "\n",
    "from dataset import read_dataset\n",
    "from bundling_content_based_filtering import encode_description\n",
    "\n",
    "data_dir = Path(\"../data/data.csv\")\n",
    "\n",
    "logging.basicConfig(\n",
    "    level=logging.INFO,  # Set the logging level (DEBUG, INFO, WARNING, ERROR, CRITICAL)\n",
    "    format=\"%(asctime)s - %(name)s - %(levelname)s - %(message)s\",\n",
    ")\n",
    "\n",
    "data = read_dataset(path=data_dir)\n",
    "data = data.drop([\"Quantity\", \"InvoiceNo\", \"Country\", \"CustomerID\"], axis=1)\n",
    "data[\"InvoiceDate\"] = pd.to_datetime(data[\"InvoiceDate\"])\n",
    "data[\"Description\"] = data[\"Description\"].fillna(\"\")\n",
    "# data = add_datepart(data, \"InvoiceDate\")\n",
    "data = encode_description(data)\n",
    "\n",
    "bool_columns = data.columns[data.dtypes == \"bool\"]\n",
    "data[bool_columns] = data[bool_columns].astype(int)"
   ]
  },
  {
   "cell_type": "code",
   "execution_count": 7,
   "metadata": {},
   "outputs": [],
   "source": [
    "X = torch.tensor(data.iloc[:, 3:].values, dtype=torch.float32)\n",
    "y = torch.tensor(data['UnitPrice'].values, dtype=torch.float32)\n",
    "\n",
    "from sklearn.model_selection import train_test_split\n",
    "\n",
    "X_train, X_test, y_train, y_test = train_test_split(X, y, test_size=0.2, random_state=42)"
   ]
  },
  {
   "cell_type": "code",
   "execution_count": 8,
   "metadata": {},
   "outputs": [],
   "source": [
    "train_dataset = TensorDataset(X_train, y_train)\n",
    "test_dataset = TensorDataset(X_test, y_test)\n",
    "\n",
    "train_dataloader = DataLoader(train_dataset, batch_size=64, shuffle=True)\n",
    "test_dataloader = DataLoader(test_dataset, batch_size=64)"
   ]
  },
  {
   "cell_type": "code",
   "execution_count": 9,
   "metadata": {},
   "outputs": [],
   "source": [
    "class RegressionModel(nn.Module):\n",
    "    def __init__(self, input_size):\n",
    "        super(RegressionModel, self).__init__()\n",
    "        self.fc1 = nn.Linear(input_size, 256)\n",
    "        self.fc2 = nn.Linear(256, 128)\n",
    "        self.fc3 = nn.Linear(128, 64)\n",
    "        self.fc4 = nn.Linear(64, 1)\n",
    "\n",
    "    def forward(self, x):\n",
    "        x = torch.relu(self.fc1(x))\n",
    "        x = torch.relu(self.fc2(x))\n",
    "        x = torch.relu(self.fc3(x))\n",
    "        return self.fc4(x)"
   ]
  },
  {
   "cell_type": "code",
   "execution_count": 16,
   "metadata": {},
   "outputs": [
    {
     "name": "stderr",
     "output_type": "stream",
     "text": [
      "100%|██████████| 50/50 [00:12<00:00,  4.07it/s]\n"
     ]
    }
   ],
   "source": [
    "from tqdm import tqdm\n",
    "\n",
    "\n",
    "model = RegressionModel(input_size=X.shape[1])\n",
    "optimizer = torch.optim.Adam(model.parameters(), lr=0.001)\n",
    "criterion = nn.MSELoss()\n",
    "\n",
    "num_epochs = 50\n",
    "for epoch in tqdm(range(num_epochs)):\n",
    "    model.train()\n",
    "    for batch in train_dataloader:\n",
    "        X_batch, y_batch = batch\n",
    "        y_pred = model(X_batch)\n",
    "        loss = criterion(y_pred.squeeze(), y_batch)\n",
    "        optimizer.zero_grad()\n",
    "        loss.backward()\n",
    "        optimizer.step()"
   ]
  },
  {
   "cell_type": "code",
   "execution_count": 17,
   "metadata": {},
   "outputs": [
    {
     "name": "stdout",
     "output_type": "stream",
     "text": [
      "Test MSE Loss: 0.3961\n"
     ]
    }
   ],
   "source": [
    "model.eval()\n",
    "with torch.no_grad():\n",
    "    test_loss = 0.0\n",
    "    for batch in test_dataloader:\n",
    "        X_batch, y_batch = batch\n",
    "        y_pred = model(X_batch)\n",
    "        test_loss += criterion(y_pred.squeeze(), y_batch)\n",
    "\n",
    "print(f\"Test MSE Loss: {test_loss / len(test_dataloader):.4f}\")"
   ]
  }
 ],
 "metadata": {
  "kernelspec": {
   "display_name": "product_bundle",
   "language": "python",
   "name": "python3"
  },
  "language_info": {
   "codemirror_mode": {
    "name": "ipython",
    "version": 3
   },
   "file_extension": ".py",
   "mimetype": "text/x-python",
   "name": "python",
   "nbconvert_exporter": "python",
   "pygments_lexer": "ipython3",
   "version": "3.11.5"
  },
  "orig_nbformat": 4
 },
 "nbformat": 4,
 "nbformat_minor": 2
}
