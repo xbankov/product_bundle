{
 "cells": [
  {
   "cell_type": "code",
   "execution_count": 33,
   "metadata": {},
   "outputs": [],
   "source": [
    "import logging\n",
    "from pathlib import Path\n",
    "\n",
    "import sys\n",
    "\n",
    "sys.path.append(\"/home/xbankov/product_bundle/src/\")\n",
    "\n",
    "import pandas as pd\n",
    "from bundling_content_based_filtering import encode_description\n",
    "import networkx as nx\n",
    "import torch\n",
    "import torch.nn as nn\n",
    "import torch.optim as optim\n",
    "from sklearn.model_selection import train_test_split\n",
    "from dataset import read_dataset, split\n",
    "import torch\n",
    "import numpy as np\n",
    "import torch.nn as nn\n",
    "import torch.optim as optim\n",
    "from sklearn.model_selection import train_test_split\n",
    "\n",
    "data_dir = Path(\"../data/data.csv\")\n",
    "\n",
    "logging.basicConfig(\n",
    "    level=logging.INFO,  # Set the logging level (DEBUG, INFO, WARNING, ERROR, CRITICAL)\n",
    "    format=\"%(asctime)s - %(name)s - %(levelname)s - %(message)s\",\n",
    ")\n",
    "data = read_dataset(path=data_dir)\n",
    "data = data.drop([\"Quantity\", \"Country\", \"CustomerID\"], axis=1)\n",
    "data[\"InvoiceDate\"] = pd.to_datetime(data[\"InvoiceDate\"])\n",
    "data[\"Description\"] = data[\"Description\"].fillna(\"\")\n",
    "data = encode_description(data)"
   ]
  },
  {
   "cell_type": "code",
   "execution_count": 34,
   "metadata": {},
   "outputs": [
    {
     "data": {
      "text/plain": [
       "InvoiceNo      18405\n",
       "ItemID          3659\n",
       "Description     3871\n",
       "InvoiceDate    17169\n",
       "UnitPrice        356\n",
       "dtype: int64"
      ]
     },
     "execution_count": 34,
     "metadata": {},
     "output_type": "execute_result"
    }
   ],
   "source": [
    "data.nunique()"
   ]
  },
  {
   "cell_type": "code",
   "execution_count": 25,
   "metadata": {},
   "outputs": [],
   "source": [
    "test =  read_dataset(path=data_dir)"
   ]
  },
  {
   "cell_type": "code",
   "execution_count": 28,
   "metadata": {},
   "outputs": [
    {
     "data": {
      "text/plain": [
       "18405"
      ]
     },
     "execution_count": 28,
     "metadata": {},
     "output_type": "execute_result"
    }
   ],
   "source": [
    "test[\"InvoiceNo\"].nunique()"
   ]
  },
  {
   "cell_type": "code",
   "execution_count": 18,
   "metadata": {},
   "outputs": [],
   "source": [
    "transactions = data.groupby(\"InvoiceNo\")[\"ItemID\"].apply(list).to_list()"
   ]
  },
  {
   "cell_type": "code",
   "execution_count": 24,
   "metadata": {},
   "outputs": [
    {
     "data": {
      "text/plain": [
       "1516"
      ]
     },
     "execution_count": 24,
     "metadata": {},
     "output_type": "execute_result"
    }
   ],
   "source": []
  },
  {
   "cell_type": "code",
   "execution_count": 19,
   "metadata": {},
   "outputs": [],
   "source": [
    "# Create a directed graph were nodes represent transactions\n",
    "G = nx.DiGraph()\n",
    "\n",
    "# Add transactions as nodes to the graph\n",
    "for i, transaction in enumerate(transactions):\n",
    "    G.add_node(i, products=transaction)\n",
    "\n",
    "# Define relationships (edges) between transactions\n",
    "# You can customize this logic based on your criteria (e.g., common products)\n",
    "for i in range(len(transactions)):\n",
    "    for j in range(i + 1, len(transactions)):\n",
    "        common_products = set(transactions[i]) & set(transactions[j])\n",
    "        if common_products:\n",
    "            G.add_edge(i, j, common_products=len(common_products))"
   ]
  },
  {
   "cell_type": "code",
   "execution_count": null,
   "metadata": {},
   "outputs": [],
   "source": []
  },
  {
   "cell_type": "code",
   "execution_count": 20,
   "metadata": {},
   "outputs": [],
   "source": [
    "# Define node features (you can customize this based on your data)\n",
    "# Here, we use the total number of products in each transaction as a feature\n",
    "node_features = torch.tensor([len(G.nodes[i]['products']) for i in G.nodes()], dtype=torch.float32).unsqueeze(1)"
   ]
  },
  {
   "cell_type": "code",
   "execution_count": 22,
   "metadata": {},
   "outputs": [
    {
     "data": {
      "text/plain": [
       "torch.Size([1516, 1])"
      ]
     },
     "execution_count": 22,
     "metadata": {},
     "output_type": "execute_result"
    }
   ],
   "source": [
    "node_features.shape"
   ]
  },
  {
   "cell_type": "code",
   "execution_count": 14,
   "metadata": {},
   "outputs": [
    {
     "ename": "AttributeError",
     "evalue": "module 'networkx' has no attribute 'to_numpy_matrix'",
     "output_type": "error",
     "traceback": [
      "\u001b[0;31m---------------------------------------------------------------------------\u001b[0m",
      "\u001b[0;31mAttributeError\u001b[0m                            Traceback (most recent call last)",
      "\u001b[1;32m/home/xbankov/product_bundle/notebooks/gnn_experiment.ipynb Cell 2\u001b[0m line \u001b[0;36m4\n\u001b[1;32m     <a href='vscode-notebook-cell:/home/xbankov/product_bundle/notebooks/gnn_experiment.ipynb#X15sZmlsZQ%3D%3D?line=39'>40</a>\u001b[0m train_nodes, test_nodes \u001b[39m=\u001b[39m train_test_split(nodes, train_size\u001b[39m=\u001b[39m\u001b[39m0.8\u001b[39m, random_state\u001b[39m=\u001b[39m\u001b[39m42\u001b[39m)\n\u001b[1;32m     <a href='vscode-notebook-cell:/home/xbankov/product_bundle/notebooks/gnn_experiment.ipynb#X15sZmlsZQ%3D%3D?line=41'>42</a>\u001b[0m \u001b[39m# Create adjacency matrix\u001b[39;00m\n\u001b[0;32m---> <a href='vscode-notebook-cell:/home/xbankov/product_bundle/notebooks/gnn_experiment.ipynb#X15sZmlsZQ%3D%3D?line=42'>43</a>\u001b[0m adj_matrix \u001b[39m=\u001b[39m nx\u001b[39m.\u001b[39;49mto_numpy_matrix(G, nodelist\u001b[39m=\u001b[39mnodes)\n\u001b[1;32m     <a href='vscode-notebook-cell:/home/xbankov/product_bundle/notebooks/gnn_experiment.ipynb#X15sZmlsZQ%3D%3D?line=44'>45</a>\u001b[0m \u001b[39m# Define a simple GNN model\u001b[39;00m\n\u001b[1;32m     <a href='vscode-notebook-cell:/home/xbankov/product_bundle/notebooks/gnn_experiment.ipynb#X15sZmlsZQ%3D%3D?line=45'>46</a>\u001b[0m \u001b[39mclass\u001b[39;00m \u001b[39mGNN\u001b[39;00m(nn\u001b[39m.\u001b[39mModule):\n",
      "\u001b[0;31mAttributeError\u001b[0m: module 'networkx' has no attribute 'to_numpy_matrix'"
     ]
    }
   ],
   "source": [
    "\n",
    "# Split the data into train and test nodes\n",
    "nodes = list(G.nodes())\n",
    "train_nodes, test_nodes = train_test_split(nodes, train_size=0.8, random_state=42)\n",
    "\n",
    "# Create adjacency matrix\n",
    "adj_matrix = nx.to_numpy_matrix(G, nodelist=nodes)\n",
    "\n",
    "# Define a simple GNN model\n",
    "class GNN(nn.Module):\n",
    "    def __init__(self, input_dim, hidden_dim, output_dim):\n",
    "        super(GNN, self).__init__()\n",
    "        self.gc1 = nn.Linear(input_dim, hidden_dim)\n",
    "        self.gc2 = nn.Linear(hidden_dim, output_dim)\n",
    "        self.relu = nn.ReLU()\n",
    "\n",
    "    def forward(self, x, adj_matrix):\n",
    "        x = self.relu(self.gc1(x))\n",
    "        x = torch.matmul(adj_matrix, x)  # Aggregate information from connected transactions\n",
    "        x = self.gc2(x)\n",
    "        return x\n",
    "\n",
    "# Convert node features to PyTorch tensor\n",
    "node_features = torch.tensor(node_features, dtype=torch.float32)\n",
    "\n",
    "# Create GNN model\n",
    "input_dim = 1  # Only using the number of products as a feature\n",
    "hidden_dim = 64\n",
    "output_dim = 1  # We'll predict a single value (e.g., bundle score)\n",
    "model = GNN(input_dim, hidden_dim, output_dim)\n",
    "\n",
    "# Define loss and optimizer\n",
    "criterion = nn.MSELoss()\n",
    "optimizer = optim.Adam(model.parameters(), lr=0.01)\n",
    "\n",
    "# Train the GNN on the training nodes\n",
    "train_indices = [nodes.index(node) for node in train_nodes]\n",
    "train_features = node_features[train_indices]\n",
    "train_adj_matrix = adj_matrix[train_indices][:, train_indices]\n",
    "\n",
    "for epoch in range(50):\n",
    "    optimizer.zero_grad()\n",
    "    outputs = model(train_features, torch.tensor(train_adj_matrix, dtype=torch.float32))\n",
    "    loss = criterion(outputs, train_features)  # Reconstruction loss (minimize the difference)\n",
    "    loss.backward()\n",
    "    optimizer.step()\n",
    "    print(f'Epoch {epoch + 1}/{50}, Loss: {loss.item()}')\n",
    "\n",
    "# Now, you can use the trained GNN to recommend bundles for test nodes\n",
    "test_indices = [nodes.index(node) for node in test_nodes]\n",
    "test_features = node_features[test_indices]\n",
    "test_adj_matrix = adj_matrix[test_indices][:, test_indices]\n",
    "\n",
    "with torch.no_grad():\n",
    "    test_recommendations = model(test_features, torch.tensor(test_adj_matrix, dtype=torch.float32)).numpy()\n"
   ]
  }
 ],
 "metadata": {
  "kernelspec": {
   "display_name": "product_bundle",
   "language": "python",
   "name": "python3"
  },
  "language_info": {
   "codemirror_mode": {
    "name": "ipython",
    "version": 3
   },
   "file_extension": ".py",
   "mimetype": "text/x-python",
   "name": "python",
   "nbconvert_exporter": "python",
   "pygments_lexer": "ipython3",
   "version": "3.11.5"
  },
  "orig_nbformat": 4
 },
 "nbformat": 4,
 "nbformat_minor": 2
}
