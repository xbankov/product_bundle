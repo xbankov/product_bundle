{
 "cells": [
  {
   "cell_type": "code",
   "execution_count": 1,
   "metadata": {},
   "outputs": [],
   "source": [
    "from dataset import read_dataset, split\n",
    "from pathlib import Path\n",
    "import pandas as pd\n",
    "from bundling import rule_based_product_bundle\n",
    "import logging"
   ]
  },
  {
   "cell_type": "code",
   "execution_count": 2,
   "metadata": {},
   "outputs": [
    {
     "name": "stderr",
     "output_type": "stream",
     "text": [
      "2023-10-01 18:19:41,959 - root - DEBUG - Loading preprocessed csv from data/data_cleaned.csv\n",
      "2023-10-01 18:19:42,385 - root - DEBUG - Splits NOT found in: data/splits or some are missing. Splitting...\n",
      "2023-10-01 18:19:42,385 - root - DEBUG - Identify unique InvoiceNo\n",
      "2023-10-01 18:19:42,389 - root - DEBUG - Perform a InvoiceNo-level split Train / Valid / Test: 0.6 / 0.2 / 0.2\n",
      "2023-10-01 18:19:42,392 - root - DEBUG - Split the dataset\n"
     ]
    }
   ],
   "source": [
    "data_dir = Path(\"data/data.csv\")\n",
    "\n",
    "logging.basicConfig(\n",
    "    level=logging.DEBUG,  # Set the logging level (DEBUG, INFO, WARNING, ERROR, CRITICAL)\n",
    "    format='%(asctime)s - %(name)s - %(levelname)s - %(message)s'\n",
    ")\n",
    "df = read_dataset(path=data_dir)\n",
    "train_df, valid_df, test_df = split(df, \"InvoiceNo\")"
   ]
  },
  {
   "cell_type": "code",
   "execution_count": 3,
   "metadata": {},
   "outputs": [
    {
     "name": "stderr",
     "output_type": "stream",
     "text": [
      "2023-10-01 18:19:49,817 - root - DEBUG - Create a pivot table for market basket analysis using InvoiceNo and ItemID\n",
      "2023-10-01 18:19:50,435 - root - DEBUG - Perform market basket analysis using Apriori algorithm\n",
      "2023-10-01 18:19:51,253 - root - DEBUG - Extracted 10 common_bundles from frequent itemsets\n",
      "2023-10-01 18:19:51,254 - root - DEBUG - Generate association rules from frequent itemsets\n",
      "2023-10-01 18:19:51,256 - root - DEBUG - Sort the rules by confidence or lift, depending on your preference\n",
      "2023-10-01 18:19:51,257 - root - DEBUG - Iterate through the sorted rules and extract bundles\n",
      "2023-10-01 18:19:51,257 - root - DEBUG - Generated 0 bundles using association rules\n"
     ]
    },
    {
     "data": {
      "text/plain": [
       "10"
      ]
     },
     "execution_count": 3,
     "metadata": {},
     "output_type": "execute_result"
    }
   ],
   "source": [
    "predicted_bundles = rule_based_product_bundle(train_df, min_support=0.025, metric=\"confidence\", min_threshold=0.8, min_confidence=0.8, min_bundle_size=1)\n",
    "len(predicted_bundles)"
   ]
  },
  {
   "cell_type": "code",
   "execution_count": 4,
   "metadata": {},
   "outputs": [
    {
     "name": "stdout",
     "output_type": "stream",
     "text": [
      "Evaluation Metrics:\n",
      "Precision: 0.4\n",
      "Recall: 0.0002363088556743664\n",
      "F1 Score: 0.0004723386668241129\n"
     ]
    }
   ],
   "source": [
    "setty_df = df.groupby(\"InvoiceNo\")[\"ItemID\"].apply(frozenset)\n",
    "actual_bundles = set(setty_df[setty_df.apply(len) > 1].to_list())\n",
    "\n",
    "# Calculate evaluation metrics\n",
    "true_positives = len(predicted_bundles & actual_bundles)\n",
    "false_positives = len(predicted_bundles - actual_bundles)\n",
    "false_negatives = len(actual_bundles - predicted_bundles)\n",
    "\n",
    "precision = true_positives / (true_positives + false_positives)\n",
    "recall = true_positives / (true_positives + false_negatives)\n",
    "f1_score = 2 * (precision * recall) / (precision + recall)\n",
    "\n",
    "\n",
    "print(\"Evaluation Metrics:\")\n",
    "print(\"Precision:\", precision)\n",
    "print(\"Recall:\", recall)\n",
    "print(\"F1 Score:\", f1_score)"
   ]
  },
  {
   "cell_type": "code",
   "execution_count": null,
   "metadata": {},
   "outputs": [],
   "source": []
  }
 ],
 "metadata": {
  "kernelspec": {
   "display_name": "product_bundle",
   "language": "python",
   "name": "python3"
  },
  "language_info": {
   "codemirror_mode": {
    "name": "ipython",
    "version": 3
   },
   "file_extension": ".py",
   "mimetype": "text/x-python",
   "name": "python",
   "nbconvert_exporter": "python",
   "pygments_lexer": "ipython3",
   "version": "3.11.5"
  },
  "orig_nbformat": 4
 },
 "nbformat": 4,
 "nbformat_minor": 2
}
