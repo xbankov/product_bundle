{
 "cells": [
  {
   "cell_type": "code",
   "execution_count": 1,
   "metadata": {},
   "outputs": [],
   "source": [
    "from dataset import read_dataset, split\n",
    "from pathlib import Path\n",
    "import pandas as pd\n",
    "from bundling import rule_based_product_bundle\n",
    "import logging"
   ]
  },
  {
   "cell_type": "code",
   "execution_count": 2,
   "metadata": {},
   "outputs": [
    {
     "name": "stderr",
     "output_type": "stream",
     "text": [
      "2023-10-01 18:19:41,959 - root - DEBUG - Loading preprocessed csv from data/data_cleaned.csv\n",
      "2023-10-01 18:19:42,385 - root - DEBUG - Splits NOT found in: data/splits or some are missing. Splitting...\n",
      "2023-10-01 18:19:42,385 - root - DEBUG - Identify unique InvoiceNo\n",
      "2023-10-01 18:19:42,389 - root - DEBUG - Perform a InvoiceNo-level split Train / Valid / Test: 0.6 / 0.2 / 0.2\n",
      "2023-10-01 18:19:42,392 - root - DEBUG - Split the dataset\n"
     ]
    }
   ],
   "source": [
    "data_dir = Path(\"data/data.csv\")\n",
    "\n",
    "logging.basicConfig(\n",
    "    level=logging.DEBUG,  # Set the logging level (DEBUG, INFO, WARNING, ERROR, CRITICAL)\n",
    "    format='%(asctime)s - %(name)s - %(levelname)s - %(message)s'\n",
    ")\n",
    "df = read_dataset(path=data_dir)\n",
    "train_df, valid_df, test_df = split(df, \"InvoiceNo\")"
   ]
  },
  {
   "cell_type": "code",
   "execution_count": 5,
   "metadata": {},
   "outputs": [
    {
     "data": {
      "text/html": [
       "<div>\n",
       "<style scoped>\n",
       "    .dataframe tbody tr th:only-of-type {\n",
       "        vertical-align: middle;\n",
       "    }\n",
       "\n",
       "    .dataframe tbody tr th {\n",
       "        vertical-align: top;\n",
       "    }\n",
       "\n",
       "    .dataframe thead th {\n",
       "        text-align: right;\n",
       "    }\n",
       "</style>\n",
       "<table border=\"1\" class=\"dataframe\">\n",
       "  <thead>\n",
       "    <tr style=\"text-align: right;\">\n",
       "      <th></th>\n",
       "      <th>InvoiceNo</th>\n",
       "      <th>ItemID</th>\n",
       "      <th>Description</th>\n",
       "      <th>Quantity</th>\n",
       "      <th>InvoiceDate</th>\n",
       "      <th>UnitPrice</th>\n",
       "      <th>CustomerID</th>\n",
       "      <th>Country</th>\n",
       "    </tr>\n",
       "  </thead>\n",
       "  <tbody>\n",
       "    <tr>\n",
       "      <th>0</th>\n",
       "      <td>536365</td>\n",
       "      <td>85123A</td>\n",
       "      <td>WHITE HANGING HEART T-LIGHT HOLDER</td>\n",
       "      <td>5</td>\n",
       "      <td>2010-12-01 08:26:00</td>\n",
       "      <td>2.55</td>\n",
       "      <td>17850</td>\n",
       "      <td>United Kingdom</td>\n",
       "    </tr>\n",
       "    <tr>\n",
       "      <th>1</th>\n",
       "      <td>536365</td>\n",
       "      <td>71053</td>\n",
       "      <td>WHITE METAL LANTERN</td>\n",
       "      <td>5</td>\n",
       "      <td>2010-12-01 08:26:00</td>\n",
       "      <td>3.39</td>\n",
       "      <td>17850</td>\n",
       "      <td>United Kingdom</td>\n",
       "    </tr>\n",
       "    <tr>\n",
       "      <th>2</th>\n",
       "      <td>536365</td>\n",
       "      <td>84406B</td>\n",
       "      <td>CREAM CUPID HEARTS COAT HANGER</td>\n",
       "      <td>5</td>\n",
       "      <td>2010-12-01 08:26:00</td>\n",
       "      <td>2.75</td>\n",
       "      <td>17850</td>\n",
       "      <td>United Kingdom</td>\n",
       "    </tr>\n",
       "    <tr>\n",
       "      <th>3</th>\n",
       "      <td>536365</td>\n",
       "      <td>84029G</td>\n",
       "      <td>KNITTED UNION FLAG HOT WATER BOTTLE</td>\n",
       "      <td>5</td>\n",
       "      <td>2010-12-01 08:26:00</td>\n",
       "      <td>3.39</td>\n",
       "      <td>17850</td>\n",
       "      <td>United Kingdom</td>\n",
       "    </tr>\n",
       "    <tr>\n",
       "      <th>4</th>\n",
       "      <td>536365</td>\n",
       "      <td>84029E</td>\n",
       "      <td>RED WOOLLY HOTTIE WHITE HEART.</td>\n",
       "      <td>5</td>\n",
       "      <td>2010-12-01 08:26:00</td>\n",
       "      <td>3.39</td>\n",
       "      <td>17850</td>\n",
       "      <td>United Kingdom</td>\n",
       "    </tr>\n",
       "    <tr>\n",
       "      <th>...</th>\n",
       "      <td>...</td>\n",
       "      <td>...</td>\n",
       "      <td>...</td>\n",
       "      <td>...</td>\n",
       "      <td>...</td>\n",
       "      <td>...</td>\n",
       "      <td>...</td>\n",
       "      <td>...</td>\n",
       "    </tr>\n",
       "    <tr>\n",
       "      <th>392727</th>\n",
       "      <td>581587</td>\n",
       "      <td>22613</td>\n",
       "      <td>PACK OF 20 SPACEBOY NAPKINS</td>\n",
       "      <td>12</td>\n",
       "      <td>2011-12-09 12:50:00</td>\n",
       "      <td>0.85</td>\n",
       "      <td>12680</td>\n",
       "      <td>France</td>\n",
       "    </tr>\n",
       "    <tr>\n",
       "      <th>392728</th>\n",
       "      <td>581587</td>\n",
       "      <td>22899</td>\n",
       "      <td>CHILDREN'S APRON DOLLY GIRL</td>\n",
       "      <td>6</td>\n",
       "      <td>2011-12-09 12:50:00</td>\n",
       "      <td>2.10</td>\n",
       "      <td>12680</td>\n",
       "      <td>France</td>\n",
       "    </tr>\n",
       "    <tr>\n",
       "      <th>392729</th>\n",
       "      <td>581587</td>\n",
       "      <td>23254</td>\n",
       "      <td>CHILDRENS CUTLERY DOLLY GIRL</td>\n",
       "      <td>4</td>\n",
       "      <td>2011-12-09 12:50:00</td>\n",
       "      <td>4.15</td>\n",
       "      <td>12680</td>\n",
       "      <td>France</td>\n",
       "    </tr>\n",
       "    <tr>\n",
       "      <th>392730</th>\n",
       "      <td>581587</td>\n",
       "      <td>23255</td>\n",
       "      <td>CHILDRENS CUTLERY CIRCUS PARADE</td>\n",
       "      <td>4</td>\n",
       "      <td>2011-12-09 12:50:00</td>\n",
       "      <td>4.15</td>\n",
       "      <td>12680</td>\n",
       "      <td>France</td>\n",
       "    </tr>\n",
       "    <tr>\n",
       "      <th>392731</th>\n",
       "      <td>581587</td>\n",
       "      <td>22138</td>\n",
       "      <td>BAKING SET 9 PIECE RETROSPOT</td>\n",
       "      <td>3</td>\n",
       "      <td>2011-12-09 12:50:00</td>\n",
       "      <td>4.95</td>\n",
       "      <td>12680</td>\n",
       "      <td>France</td>\n",
       "    </tr>\n",
       "  </tbody>\n",
       "</table>\n",
       "<p>392732 rows × 8 columns</p>\n",
       "</div>"
      ],
      "text/plain": [
       "        InvoiceNo  ItemID                          Description  Quantity  \\\n",
       "0          536365  85123A   WHITE HANGING HEART T-LIGHT HOLDER         5   \n",
       "1          536365   71053                  WHITE METAL LANTERN         5   \n",
       "2          536365  84406B       CREAM CUPID HEARTS COAT HANGER         5   \n",
       "3          536365  84029G  KNITTED UNION FLAG HOT WATER BOTTLE         5   \n",
       "4          536365  84029E       RED WOOLLY HOTTIE WHITE HEART.         5   \n",
       "...           ...     ...                                  ...       ...   \n",
       "392727     581587   22613          PACK OF 20 SPACEBOY NAPKINS        12   \n",
       "392728     581587   22899         CHILDREN'S APRON DOLLY GIRL          6   \n",
       "392729     581587   23254        CHILDRENS CUTLERY DOLLY GIRL          4   \n",
       "392730     581587   23255      CHILDRENS CUTLERY CIRCUS PARADE         4   \n",
       "392731     581587   22138        BAKING SET 9 PIECE RETROSPOT          3   \n",
       "\n",
       "                InvoiceDate  UnitPrice  CustomerID         Country  \n",
       "0       2010-12-01 08:26:00       2.55       17850  United Kingdom  \n",
       "1       2010-12-01 08:26:00       3.39       17850  United Kingdom  \n",
       "2       2010-12-01 08:26:00       2.75       17850  United Kingdom  \n",
       "3       2010-12-01 08:26:00       3.39       17850  United Kingdom  \n",
       "4       2010-12-01 08:26:00       3.39       17850  United Kingdom  \n",
       "...                     ...        ...         ...             ...  \n",
       "392727  2011-12-09 12:50:00       0.85       12680          France  \n",
       "392728  2011-12-09 12:50:00       2.10       12680          France  \n",
       "392729  2011-12-09 12:50:00       4.15       12680          France  \n",
       "392730  2011-12-09 12:50:00       4.15       12680          France  \n",
       "392731  2011-12-09 12:50:00       4.95       12680          France  \n",
       "\n",
       "[392732 rows x 8 columns]"
      ]
     },
     "execution_count": 5,
     "metadata": {},
     "output_type": "execute_result"
    }
   ],
   "source": [
    "df."
   ]
  },
  {
   "cell_type": "code",
   "execution_count": 3,
   "metadata": {},
   "outputs": [
    {
     "name": "stderr",
     "output_type": "stream",
     "text": [
      "2023-10-01 18:19:49,817 - root - DEBUG - Create a pivot table for market basket analysis using InvoiceNo and ItemID\n",
      "2023-10-01 18:19:50,435 - root - DEBUG - Perform market basket analysis using Apriori algorithm\n",
      "2023-10-01 18:19:51,253 - root - DEBUG - Extracted 10 common_bundles from frequent itemsets\n",
      "2023-10-01 18:19:51,254 - root - DEBUG - Generate association rules from frequent itemsets\n",
      "2023-10-01 18:19:51,256 - root - DEBUG - Sort the rules by confidence or lift, depending on your preference\n",
      "2023-10-01 18:19:51,257 - root - DEBUG - Iterate through the sorted rules and extract bundles\n",
      "2023-10-01 18:19:51,257 - root - DEBUG - Generated 0 bundles using association rules\n"
     ]
    },
    {
     "data": {
      "text/plain": [
       "10"
      ]
     },
     "execution_count": 3,
     "metadata": {},
     "output_type": "execute_result"
    }
   ],
   "source": [
    "predicted_bundles = rule_based_product_bundle(train_df, min_support=0.025, metric=\"confidence\", min_threshold=0.8, min_confidence=0.8, min_bundle_size=1)\n",
    "len(predicted_bundles)"
   ]
  },
  {
   "cell_type": "code",
   "execution_count": 4,
   "metadata": {},
   "outputs": [
    {
     "name": "stdout",
     "output_type": "stream",
     "text": [
      "Evaluation Metrics:\n",
      "Precision: 0.4\n",
      "Recall: 0.0002363088556743664\n",
      "F1 Score: 0.0004723386668241129\n"
     ]
    }
   ],
   "source": [
    "setty_df = df.groupby(\"InvoiceNo\")[\"ItemID\"].apply(frozenset)\n",
    "actual_bundles = set(setty_df[setty_df.apply(len) > 1].to_list())\n",
    "\n",
    "# Calculate evaluation metrics\n",
    "true_positives = len(predicted_bundles & actual_bundles)\n",
    "false_positives = len(predicted_bundles - actual_bundles)\n",
    "false_negatives = len(actual_bundles - predicted_bundles)\n",
    "\n",
    "precision = true_positives / (true_positives + false_positives)\n",
    "recall = true_positives / (true_positives + false_negatives)\n",
    "f1_score = 2 * (precision * recall) / (precision + recall)\n",
    "\n",
    "\n",
    "print(\"Evaluation Metrics:\")\n",
    "print(\"Precision:\", precision)\n",
    "print(\"Recall:\", recall)\n",
    "print(\"F1 Score:\", f1_score)"
   ]
  },
  {
   "cell_type": "code",
   "execution_count": null,
   "metadata": {},
   "outputs": [],
   "source": []
  }
 ],
 "metadata": {
  "kernelspec": {
   "display_name": "product_bundle",
   "language": "python",
   "name": "python3"
  },
  "language_info": {
   "codemirror_mode": {
    "name": "ipython",
    "version": 3
   },
   "file_extension": ".py",
   "mimetype": "text/x-python",
   "name": "python",
   "nbconvert_exporter": "python",
   "pygments_lexer": "ipython3",
   "version": "3.11.5"
  },
  "orig_nbformat": 4
 },
 "nbformat": 4,
 "nbformat_minor": 2
}
